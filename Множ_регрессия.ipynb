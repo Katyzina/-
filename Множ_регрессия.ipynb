{
  "nbformat": 4,
  "nbformat_minor": 0,
  "metadata": {
    "colab": {
      "provenance": []
    },
    "kernelspec": {
      "name": "python3",
      "display_name": "Python 3"
    },
    "language_info": {
      "name": "python"
    }
  },
  "cells": [
    {
      "cell_type": "markdown",
      "source": [
        "Множественная регрессия: для своего варианта провести регрессионное моделирование (построить множественную регрессионную модель, ссылка для скачки данных на странице в разделе Data tables, выбрать не менее 50 строк):\n",
        "\n",
        "1. Выбрать выходную прогнозируемую переменную\n",
        "2. Построить регрессионную модель со значимыми параметрами (оценить корреляции между факторами, последовательно добавлять факторы и сравнивать качество получаемых моделей, подобрать вид функции (визуальный анализ), оценить адекватность модели по статистическим показателям, каждый из этапов прокомментировать в отчете)\n",
        "3. Интерпретируете результаты моделирования (что значит полученная формула, какие переменные вносят больший вклад, что будет при изменении независимых переменных с зависимой),\n",
        "4. Прогнозировать новые значения с помощью построенной модели."
      ],
      "metadata": {
        "id": "C-W1IKcTOyCP"
      }
    },
    {
      "cell_type": "code",
      "execution_count": 106,
      "metadata": {
        "id": "aBo9M6F3Bahd"
      },
      "outputs": [],
      "source": [
        "import numpy as np\n",
        "import pandas as pd\n",
        "from sklearn.linear_model import LinearRegression\n",
        "import statsmodels.api as sm\n",
        "import matplotlib.pyplot as plt\n",
        "from statsmodels.formula.api import ols\n",
        "import seaborn as sns\n",
        "from sklearn.linear_model import LinearRegression\n",
        "from sklearn.model_selection import train_test_split\n",
        "from sklearn.metrics import r2_score\n",
        "\n",
        "# Чтение данных из CSV файла с указанием разделителя ';'\n",
        "df = pd.read_csv('H.csv', delimiter=';')"
      ]
    },
    {
      "cell_type": "code",
      "source": [
        "# 1 Этап. Выбор выходной прогнозируемой переменной\n",
        "Y = df['Total: Shock or trauma']"
      ],
      "metadata": {
        "id": "-q50tdONBdkN"
      },
      "execution_count": 107,
      "outputs": []
    },
    {
      "cell_type": "code",
      "source": [
        "# Выберем независимые переменные (инциденты, связанные с ручным трудом) и зависимую переменную (общее количество шоков или травм)\n",
        "independent_vars = df.columns[1:7]\n",
        "dependent_var = 'Total: Shock or trauma'\n",
        "\n",
        "# Проверим корреляцию между независимыми переменными и зависимой переменной\n",
        "correlation_matrix = df[independent_vars].join(df[dependent_var]).corr()\n",
        "\n",
        "# Отобразим матрицу корреляции\n",
        "correlation_matrix[[dependent_var]]\n"
      ],
      "metadata": {
        "colab": {
          "base_uri": "https://localhost:8080/",
          "height": 269
        },
        "id": "hzQAE9CMBgBq",
        "outputId": "e7dcdf9a-f32b-4576-a48a-9c4dcc042827"
      },
      "execution_count": 108,
      "outputs": [
        {
          "output_type": "execute_result",
          "data": {
            "text/plain": [
              "                                              Total: Shock or trauma\n",
              "Freight operating companies: Manual handling               -0.159770\n",
              "London Underground Limited: Manual handling                 0.327294\n",
              "Network Rail: Manual handling                               0.380085\n",
              "Network Rail contractors: Manual handling                   0.155860\n",
              "Other contractors: Manual handling                          0.104319\n",
              "Train operating companies: Manual handling                  0.365489\n",
              "Total: Shock or trauma                                      1.000000"
            ],
            "text/html": [
              "\n",
              "  <div id=\"df-4a451cf0-cd86-4eff-b43a-3a41e3822915\" class=\"colab-df-container\">\n",
              "    <div>\n",
              "<style scoped>\n",
              "    .dataframe tbody tr th:only-of-type {\n",
              "        vertical-align: middle;\n",
              "    }\n",
              "\n",
              "    .dataframe tbody tr th {\n",
              "        vertical-align: top;\n",
              "    }\n",
              "\n",
              "    .dataframe thead th {\n",
              "        text-align: right;\n",
              "    }\n",
              "</style>\n",
              "<table border=\"1\" class=\"dataframe\">\n",
              "  <thead>\n",
              "    <tr style=\"text-align: right;\">\n",
              "      <th></th>\n",
              "      <th>Total: Shock or trauma</th>\n",
              "    </tr>\n",
              "  </thead>\n",
              "  <tbody>\n",
              "    <tr>\n",
              "      <th>Freight operating companies: Manual handling</th>\n",
              "      <td>-0.159770</td>\n",
              "    </tr>\n",
              "    <tr>\n",
              "      <th>London Underground Limited: Manual handling</th>\n",
              "      <td>0.327294</td>\n",
              "    </tr>\n",
              "    <tr>\n",
              "      <th>Network Rail: Manual handling</th>\n",
              "      <td>0.380085</td>\n",
              "    </tr>\n",
              "    <tr>\n",
              "      <th>Network Rail contractors: Manual handling</th>\n",
              "      <td>0.155860</td>\n",
              "    </tr>\n",
              "    <tr>\n",
              "      <th>Other contractors: Manual handling</th>\n",
              "      <td>0.104319</td>\n",
              "    </tr>\n",
              "    <tr>\n",
              "      <th>Train operating companies: Manual handling</th>\n",
              "      <td>0.365489</td>\n",
              "    </tr>\n",
              "    <tr>\n",
              "      <th>Total: Shock or trauma</th>\n",
              "      <td>1.000000</td>\n",
              "    </tr>\n",
              "  </tbody>\n",
              "</table>\n",
              "</div>\n",
              "    <div class=\"colab-df-buttons\">\n",
              "\n",
              "  <div class=\"colab-df-container\">\n",
              "    <button class=\"colab-df-convert\" onclick=\"convertToInteractive('df-4a451cf0-cd86-4eff-b43a-3a41e3822915')\"\n",
              "            title=\"Convert this dataframe to an interactive table.\"\n",
              "            style=\"display:none;\">\n",
              "\n",
              "  <svg xmlns=\"http://www.w3.org/2000/svg\" height=\"24px\" viewBox=\"0 -960 960 960\">\n",
              "    <path d=\"M120-120v-720h720v720H120Zm60-500h600v-160H180v160Zm220 220h160v-160H400v160Zm0 220h160v-160H400v160ZM180-400h160v-160H180v160Zm440 0h160v-160H620v160ZM180-180h160v-160H180v160Zm440 0h160v-160H620v160Z\"/>\n",
              "  </svg>\n",
              "    </button>\n",
              "\n",
              "  <style>\n",
              "    .colab-df-container {\n",
              "      display:flex;\n",
              "      gap: 12px;\n",
              "    }\n",
              "\n",
              "    .colab-df-convert {\n",
              "      background-color: #E8F0FE;\n",
              "      border: none;\n",
              "      border-radius: 50%;\n",
              "      cursor: pointer;\n",
              "      display: none;\n",
              "      fill: #1967D2;\n",
              "      height: 32px;\n",
              "      padding: 0 0 0 0;\n",
              "      width: 32px;\n",
              "    }\n",
              "\n",
              "    .colab-df-convert:hover {\n",
              "      background-color: #E2EBFA;\n",
              "      box-shadow: 0px 1px 2px rgba(60, 64, 67, 0.3), 0px 1px 3px 1px rgba(60, 64, 67, 0.15);\n",
              "      fill: #174EA6;\n",
              "    }\n",
              "\n",
              "    .colab-df-buttons div {\n",
              "      margin-bottom: 4px;\n",
              "    }\n",
              "\n",
              "    [theme=dark] .colab-df-convert {\n",
              "      background-color: #3B4455;\n",
              "      fill: #D2E3FC;\n",
              "    }\n",
              "\n",
              "    [theme=dark] .colab-df-convert:hover {\n",
              "      background-color: #434B5C;\n",
              "      box-shadow: 0px 1px 3px 1px rgba(0, 0, 0, 0.15);\n",
              "      filter: drop-shadow(0px 1px 2px rgba(0, 0, 0, 0.3));\n",
              "      fill: #FFFFFF;\n",
              "    }\n",
              "  </style>\n",
              "\n",
              "    <script>\n",
              "      const buttonEl =\n",
              "        document.querySelector('#df-4a451cf0-cd86-4eff-b43a-3a41e3822915 button.colab-df-convert');\n",
              "      buttonEl.style.display =\n",
              "        google.colab.kernel.accessAllowed ? 'block' : 'none';\n",
              "\n",
              "      async function convertToInteractive(key) {\n",
              "        const element = document.querySelector('#df-4a451cf0-cd86-4eff-b43a-3a41e3822915');\n",
              "        const dataTable =\n",
              "          await google.colab.kernel.invokeFunction('convertToInteractive',\n",
              "                                                    [key], {});\n",
              "        if (!dataTable) return;\n",
              "\n",
              "        const docLinkHtml = 'Like what you see? Visit the ' +\n",
              "          '<a target=\"_blank\" href=https://colab.research.google.com/notebooks/data_table.ipynb>data table notebook</a>'\n",
              "          + ' to learn more about interactive tables.';\n",
              "        element.innerHTML = '';\n",
              "        dataTable['output_type'] = 'display_data';\n",
              "        await google.colab.output.renderOutput(dataTable, element);\n",
              "        const docLink = document.createElement('div');\n",
              "        docLink.innerHTML = docLinkHtml;\n",
              "        element.appendChild(docLink);\n",
              "      }\n",
              "    </script>\n",
              "  </div>\n",
              "\n",
              "\n",
              "<div id=\"df-f7e28b92-cb8c-4ea0-b093-5fea10fd827f\">\n",
              "  <button class=\"colab-df-quickchart\" onclick=\"quickchart('df-f7e28b92-cb8c-4ea0-b093-5fea10fd827f')\"\n",
              "            title=\"Suggest charts\"\n",
              "            style=\"display:none;\">\n",
              "\n",
              "<svg xmlns=\"http://www.w3.org/2000/svg\" height=\"24px\"viewBox=\"0 0 24 24\"\n",
              "     width=\"24px\">\n",
              "    <g>\n",
              "        <path d=\"M19 3H5c-1.1 0-2 .9-2 2v14c0 1.1.9 2 2 2h14c1.1 0 2-.9 2-2V5c0-1.1-.9-2-2-2zM9 17H7v-7h2v7zm4 0h-2V7h2v10zm4 0h-2v-4h2v4z\"/>\n",
              "    </g>\n",
              "</svg>\n",
              "  </button>\n",
              "\n",
              "<style>\n",
              "  .colab-df-quickchart {\n",
              "      --bg-color: #E8F0FE;\n",
              "      --fill-color: #1967D2;\n",
              "      --hover-bg-color: #E2EBFA;\n",
              "      --hover-fill-color: #174EA6;\n",
              "      --disabled-fill-color: #AAA;\n",
              "      --disabled-bg-color: #DDD;\n",
              "  }\n",
              "\n",
              "  [theme=dark] .colab-df-quickchart {\n",
              "      --bg-color: #3B4455;\n",
              "      --fill-color: #D2E3FC;\n",
              "      --hover-bg-color: #434B5C;\n",
              "      --hover-fill-color: #FFFFFF;\n",
              "      --disabled-bg-color: #3B4455;\n",
              "      --disabled-fill-color: #666;\n",
              "  }\n",
              "\n",
              "  .colab-df-quickchart {\n",
              "    background-color: var(--bg-color);\n",
              "    border: none;\n",
              "    border-radius: 50%;\n",
              "    cursor: pointer;\n",
              "    display: none;\n",
              "    fill: var(--fill-color);\n",
              "    height: 32px;\n",
              "    padding: 0;\n",
              "    width: 32px;\n",
              "  }\n",
              "\n",
              "  .colab-df-quickchart:hover {\n",
              "    background-color: var(--hover-bg-color);\n",
              "    box-shadow: 0 1px 2px rgba(60, 64, 67, 0.3), 0 1px 3px 1px rgba(60, 64, 67, 0.15);\n",
              "    fill: var(--button-hover-fill-color);\n",
              "  }\n",
              "\n",
              "  .colab-df-quickchart-complete:disabled,\n",
              "  .colab-df-quickchart-complete:disabled:hover {\n",
              "    background-color: var(--disabled-bg-color);\n",
              "    fill: var(--disabled-fill-color);\n",
              "    box-shadow: none;\n",
              "  }\n",
              "\n",
              "  .colab-df-spinner {\n",
              "    border: 2px solid var(--fill-color);\n",
              "    border-color: transparent;\n",
              "    border-bottom-color: var(--fill-color);\n",
              "    animation:\n",
              "      spin 1s steps(1) infinite;\n",
              "  }\n",
              "\n",
              "  @keyframes spin {\n",
              "    0% {\n",
              "      border-color: transparent;\n",
              "      border-bottom-color: var(--fill-color);\n",
              "      border-left-color: var(--fill-color);\n",
              "    }\n",
              "    20% {\n",
              "      border-color: transparent;\n",
              "      border-left-color: var(--fill-color);\n",
              "      border-top-color: var(--fill-color);\n",
              "    }\n",
              "    30% {\n",
              "      border-color: transparent;\n",
              "      border-left-color: var(--fill-color);\n",
              "      border-top-color: var(--fill-color);\n",
              "      border-right-color: var(--fill-color);\n",
              "    }\n",
              "    40% {\n",
              "      border-color: transparent;\n",
              "      border-right-color: var(--fill-color);\n",
              "      border-top-color: var(--fill-color);\n",
              "    }\n",
              "    60% {\n",
              "      border-color: transparent;\n",
              "      border-right-color: var(--fill-color);\n",
              "    }\n",
              "    80% {\n",
              "      border-color: transparent;\n",
              "      border-right-color: var(--fill-color);\n",
              "      border-bottom-color: var(--fill-color);\n",
              "    }\n",
              "    90% {\n",
              "      border-color: transparent;\n",
              "      border-bottom-color: var(--fill-color);\n",
              "    }\n",
              "  }\n",
              "</style>\n",
              "\n",
              "  <script>\n",
              "    async function quickchart(key) {\n",
              "      const quickchartButtonEl =\n",
              "        document.querySelector('#' + key + ' button');\n",
              "      quickchartButtonEl.disabled = true;  // To prevent multiple clicks.\n",
              "      quickchartButtonEl.classList.add('colab-df-spinner');\n",
              "      try {\n",
              "        const charts = await google.colab.kernel.invokeFunction(\n",
              "            'suggestCharts', [key], {});\n",
              "      } catch (error) {\n",
              "        console.error('Error during call to suggestCharts:', error);\n",
              "      }\n",
              "      quickchartButtonEl.classList.remove('colab-df-spinner');\n",
              "      quickchartButtonEl.classList.add('colab-df-quickchart-complete');\n",
              "    }\n",
              "    (() => {\n",
              "      let quickchartButtonEl =\n",
              "        document.querySelector('#df-f7e28b92-cb8c-4ea0-b093-5fea10fd827f button');\n",
              "      quickchartButtonEl.style.display =\n",
              "        google.colab.kernel.accessAllowed ? 'block' : 'none';\n",
              "    })();\n",
              "  </script>\n",
              "</div>\n",
              "    </div>\n",
              "  </div>\n"
            ],
            "application/vnd.google.colaboratory.intrinsic+json": {
              "type": "dataframe",
              "summary": "{\n  \"name\": \"correlation_matrix[[dependent_var]]\",\n  \"rows\": 7,\n  \"fields\": [\n    {\n      \"column\": \"Total: Shock or trauma\",\n      \"properties\": {\n        \"dtype\": \"number\",\n        \"std\": 0.35850071676093975,\n        \"min\": -0.15977028467339546,\n        \"max\": 1.0,\n        \"num_unique_values\": 7,\n        \"samples\": [\n          -0.15977028467339546,\n          0.3272944600928418,\n          0.36548934382277165\n        ],\n        \"semantic_type\": \"\",\n        \"description\": \"\"\n      }\n    }\n  ]\n}"
            }
          },
          "metadata": {},
          "execution_count": 108
        }
      ]
    },
    {
      "cell_type": "markdown",
      "source": [
        "Матрица корреляции между инцидентами, связанными с ручным трудом, и общим количеством шоков или травм показывает следующее:\n",
        "\n",
        "*  **Freight operating companies: Manual handling**\n",
        "(-0.159): Негативная корреляция, указывает на то, что с увеличением инцидентов, связанных с ручным трудом, в компаниях, занимающихся грузоперевозками, количество травм от шока уменьшается, хотя связь слабая.\n",
        "*   **London Underground Limited: Manual handling** (0.327): Положительная корреляция означает, что с увеличением инцидентов, связанных с ручным трудом в Лондонском метрополитене, количество травм от шока увеличивается.\n",
        "*   **Network Rail: Manual handling** (0.380): Эта переменная показывает наибольшую положительную корреляцию, что указывает на более сильную связь между инцидентами, связанными с ручным трудом в Network Rail, и общим количеством травм от шока.\n",
        "*  **Network Rail contractors: Manual handling** (0.156), **Other contractors: Manual handling** (0.104), и **Train operating companies: Manual handling** (0.365): эти переменные также показывают положительную корреляцию, что означает, что с увеличением числа соответствующих инцидентов увеличивается и количество травм от шока, но связь менее выражена по сравнению с Network Rail."
      ],
      "metadata": {
        "id": "SpEuRWRfBzgj"
      }
    },
    {
      "cell_type": "code",
      "source": [
        "# Построение тепловой карты корреляции\n",
        "plt.figure(figsize=(10, 8))\n",
        "sns.heatmap(correlation_matrix, annot=True, cmap='coolwarm', fmt=\".2f\")\n",
        "plt.title('Тепловая карта корреляции')\n",
        "plt.show()\n"
      ],
      "metadata": {
        "id": "VELGdthfB9bV"
      },
      "execution_count": null,
      "outputs": []
    },
    {
      "cell_type": "code",
      "source": [
        "df = df.dropna()\n",
        "df = df.replace([np.inf, -np.inf], np.nan).dropna()\n",
        "# 2. Построение регрессионной модели со значимыми параметрами\n",
        "X = df[['Freight operating companies: Manual handling',\n",
        "                'London Underground Limited: Manual handling',\n",
        "                'Network Rail: Manual handling',\n",
        "                'Network Rail contractors: Manual handling',\n",
        "                'Other contractors: Manual handling',\n",
        "                'Train operating companies: Manual handling']]\n",
        "\n",
        "X = sm.add_constant(X)  # Добавляем константу к матрице X\n",
        "model = sm.OLS(Y, X).fit()\n",
        "print(model.summary())"
      ],
      "metadata": {
        "id": "y6qyMVDCJs2h"
      },
      "execution_count": null,
      "outputs": []
    },
    {
      "cell_type": "code",
      "source": [
        "\n",
        "# 3. Оценка корреляций между факторами\n",
        "correlation_matrix = df[['Freight operating companies: Manual handling',\n",
        "                                  'London Underground Limited: Manual handling',\n",
        "                                  'Network Rail: Manual handling',\n",
        "                                  'Network Rail contractors: Manual handling',\n",
        "                                  'Other contractors: Manual handling',\n",
        "                                  'Train operating companies: Manual handling',\n",
        "                                  'Total: Shock or trauma']].corr()\n",
        "\n",
        "# Выводим результаты модели и корреляционную матрицу\n",
        "model_summary = model.summary()\n",
        "correlation_matrix"
      ],
      "metadata": {
        "id": "vfPhP11XU8bF"
      },
      "execution_count": null,
      "outputs": []
    },
    {
      "cell_type": "code",
      "source": [
        "df = df.dropna()\n",
        "df = df.replace([np.inf, -np.inf], np.nan).dropna()\n",
        "\n",
        "# Зависимая переменная\n",
        "Y = df['Total: Shock or trauma']\n",
        "\n",
        "# Первый фактор - Freight operating companies: Manual handling\n",
        "X1 = df[['Freight operating companies: Manual handling']]\n",
        "X1 = sm.add_constant(X1)  # добавляем константу\n",
        "model1 = sm.OLS(Y, X1).fit()\n",
        "\n",
        "# Второй фактор - добавляем London Underground Limited: Manual handling\n",
        "X2 = df[['Freight operating companies: Manual handling', 'London Underground Limited: Manual handling']]\n",
        "X2 = sm.add_constant(X2)  # добавляем константу\n",
        "model2 = sm.OLS(Y, X2).fit()\n",
        "\n",
        "# Выводим резюме моделей\n",
        "model1_summary = model1.summary()\n",
        "model2_summary = model2.summary()\n",
        "\n",
        "# Выводим текстовое описание результатов для первой модели\n",
        "print(\"Модель с одним фактором (Freight operating companies):\")\n",
        "print(model1_summary)\n",
        "\n",
        "# Выводим текстовое описание результатов для второй модели\n",
        "print(\"\\nМодель с двумя факторами (Freight operating companies и London Underground Limited):\")\n",
        "print(model2_summary)"
      ],
      "metadata": {
        "id": "OMH9erSMSAjL"
      },
      "execution_count": null,
      "outputs": []
    },
    {
      "cell_type": "code",
      "source": [
        "# Последовательное добавление факторов и сравнение качества моделей\n",
        "results = []\n",
        "# Перебираем переменные и строим модели, добавляя по одной переменной\n",
        "for col in X.columns[1:]:\n",
        "    current_X = sm.add_constant(df[[col]])\n",
        "    current_model = sm.OLS(Y, current_X).fit()\n",
        "    results.append((col, current_model.rsquared, current_model.aic, current_model.bic))\n",
        "# Конвертируем результаты в DataFrame для наглядности\n",
        "results_df = pd.DataFrame(results, columns=['Variable', 'R-squared', 'AIC', 'BIC'])\n",
        "results_df\n"
      ],
      "metadata": {
        "id": "y0gecvW-Kbbo"
      },
      "execution_count": null,
      "outputs": []
    },
    {
      "cell_type": "markdown",
      "source": [
        "Для оценки адекватности модели по статистическим показателям можно обратить внимание на следующие моменты:\n",
        "\n",
        "1. **R-squared (коэффициент детерминации)**:\n",
        "   - R-squared показывает, какую долю дисперсии зависимой переменной объясняет модель. Чем ближе значение R-squared к 1, тем лучше модель объясняет изменчивость данных.\n",
        "\n",
        "2. **AIC (Критерий Акаике)** и **BIC (Байесовский информационный критерий)**:\n",
        "   - AIC и BIC используются для сравнения различных моделей. Модели с более низкими значениями AIC и BIC считаются более предпочтительными.\n",
        "\n",
        "На основании предоставленных данных можно сделать следующие выводы:\n",
        "\n",
        "- Коэффициент детерминации (R-squared) для всех моделей относительно невысокий, что может указывать на то, что модели не объясняют большую часть изменчивости зависимой переменной. Наибольшее значение R-squared достигается для переменной Network Rail: Manual handling, что указывает на её наибольший вклад в объяснение общего количества шоков или травм.\n",
        "\n",
        "- Значения AIC и BIC  Критерии информативности Акаике и Байеса также варьируются, предоставляя информацию о соотношении сложности модели и качества подгонки. Меньшие значения AIC и BIC предпочтительнее, указывая на лучшее соотношение сложности модели и качества подгонки.\n",
        "\n",
        "Таким образом, на основе результатов выше, модель с переменной Network Rail: Manual handling показала наибольшее значение R-squared и наименьшие значения AIC и BIC, что говорит о её потенциальной адекватности."
      ],
      "metadata": {
        "id": "m80s193uE8sc"
      }
    },
    {
      "cell_type": "code",
      "source": [
        "# 1. График рассеяния\n",
        "plt.figure(figsize=(10, 6))\n",
        "plt.scatter(df['Network Rail: Manual handling'], df['Total: Shock or trauma'], label='Данные')\n",
        "plt.title('График рассеяния')\n",
        "plt.xlabel('Network Rail: Manual handling')\n",
        "plt.ylabel('Total: Shock or trauma')\n",
        "plt.legend()\n",
        "plt.grid(True)\n",
        "plt.show()\n",
        "\n",
        "# 2. График остатков\n",
        "X = sm.add_constant(df['Network Rail: Manual handling'])\n",
        "model = sm.OLS(df['Total: Shock or trauma'], X).fit()\n",
        "residuals = model.resid\n",
        "plt.figure(figsize=(10, 6))\n",
        "plt.scatter(df['Network Rail: Manual handling'], residuals, label='Остатки')\n",
        "plt.axhline(y=0, color='r', linestyle='--', label='Нулевая линия')\n",
        "plt.title('График остатков')\n",
        "plt.xlabel('Network Rail: Manual handling')\n",
        "plt.ylabel('Остатки')\n",
        "plt.legend()\n",
        "plt.grid(True)\n",
        "plt.show()\n",
        "\n",
        "# 3. Линейная аппроксимация (трендовая линия)\n",
        "coefficients = np.polyfit(df['Network Rail: Manual handling'], df['Total: Shock or trauma'], 1)\n",
        "trend_line = np.polyval(coefficients, df['Network Rail: Manual handling'])\n",
        "plt.figure(figsize=(10, 6))\n",
        "plt.scatter(df['Network Rail: Manual handling'], df['Total: Shock or trauma'], label='Данные')\n",
        "plt.plot(df['Network Rail: Manual handling'], trend_line, color='r', label='Линейная аппроксимация')\n",
        "plt.title('Линейная аппроксимация')\n",
        "plt.xlabel('Network Rail: Manual handling')\n",
        "plt.ylabel('Total: Shock or trauma')\n",
        "plt.legend()\n",
        "plt.grid(True)\n",
        "plt.show()"
      ],
      "metadata": {
        "id": "RCqmxwa004hc"
      },
      "execution_count": null,
      "outputs": []
    },
    {
      "cell_type": "markdown",
      "source": [
        "\n",
        "1. **График рассеяния**:\n",
        "   - На этом графике мы отображаем данные с двумя переменными: \"Network Rail: Manual handling\" на оси X и \"Total: Shock or trauma\" на оси Y.\n",
        "   - Этот график помогает визуально оценить наличие какой-либо зависимости между двумя переменными. Если есть некоторая линейная зависимость, мы можем видеть ее на графике в виде \"скопления\" точек вокруг некоторой прямой линии.\n",
        "\n",
        "2. **График остатков**:\n",
        "   - На этом графике мы отображаем остатки регрессии (разницу между фактическими значениями зависимой переменной и предсказанными значениями) на оси Y и \"Network Rail: Manual handling\" на оси X.\n",
        "   - График остатков помогает оценить, есть ли какие-либо систематические ошибки в модели. Если точки на графике остатков случайным образом распределены вокруг горизонтальной линии, это может указывать на адекватность модели. В противном случае, если есть явные паттерны или группировки, это может означать, что модель не улавливает всю структуру данных.\n",
        "\n",
        "\n",
        "3. **Линейная аппроксимация (трендовая линия)**:\n",
        "   - На этом графике мы отображаем данные точечного графика, а также линейную аппроксимацию (трендовую линию), которая показывает наилучшее соответствие линейной модели к данным.\n",
        "   - Этот график помогает визуально оценить, насколько хорошо линейная модель соответствует данным. Если данные хорошо соответствуют линии, то модель может быть признана адекватной. Если форма данных не линейная, то линейная модель может быть непригодной для аппроксимации этих данных, и, возможно, потребуется более сложная модель."
      ],
      "metadata": {
        "id": "jptrOhIQCERF"
      }
    },
    {
      "cell_type": "markdown",
      "source": [
        "\n",
        "### Интерпретация результатов множественной регрессии:\n",
        "\n",
        "1. **Выбранная выходная (зависимая) переменная**:  `Total: Shock or trauma`, которая представляет собой общее количество шоков или травм. Эта переменная используется для анализа влияния различных факторов на общее количество травм.\n",
        "\n",
        "2. **Полученная формула модели** представляет собой линейное уравнение, которое связывает выбранную зависимую переменную с независимыми переменными (факторами), такими как количество инцидентов, связанных с ручным трудом в различных подразделениях (например, в компаниях, занимающихся грузоперевозками, London Underground Limited, Network Rail и т.д.).\n",
        "\n",
        "3. **Какие переменные вносят больший вклад**: Наибольший вклад в модель вносят переменные `Network Rail: Manual handling` (R-squared = 0.144465) и `Train operating companies: Manual handling` (R-squared = 0.133582). Это указывает на то, что инциденты, связанные с ручным трудом в этих двух сферах, имеют наибольшее влияние на общее количество шоков или травм.\n",
        "\n",
        "4. **Что будет при изменении независимых переменных с зависимой**:\n",
        "   - Увеличение числа инцидентов, связанных с ручным трудом в `Network Rail` и `Train operating companies`, предсказывается моделью как факторы, приводящие к увеличению общего количества шоков или травм. Это означает, что меры по снижению количества таких инцидентов в этих секторах могут помочь уменьшить общее количество травм.\n",
        "   - Изменения в других переменных, таких как `Freight operating companies: Manual handling`, `London Underground Limited: Manual handling`, `Network Rail contractors: Manual handling`, и `Other contractors: Manual handling`, также влияют на общее количество травм, но в меньшей степени, исходя из значений R-squared.\n",
        "\n",
        "Интерпретация модели множественной регрессии позволяет не только определить, какие факторы наиболее важны для предсказания общего количества шоков или травм, но и предоставляет основу для разработки целевых мер по их предотвращению."
      ],
      "metadata": {
        "id": "Hel-0WrUW-Jf"
      }
    },
    {
      "cell_type": "code",
      "source": [
        "# Зависимая переменная и независимые переменные\n",
        "Y = df['Total: Shock or trauma']\n",
        "X = df[['Network Rail: Manual handling']]\n",
        "X = sm.add_constant(X)  # Добавляем константу\n",
        "\n",
        "# Построение модели\n",
        "model = sm.OLS(Y, X).fit()\n",
        "# Подготовка данных для прогнозирования\n",
        "new_values = range(0, 50, 5)  # Диапазон значений от 0 до 45 с шагом 5\n",
        "new_data_df = pd.DataFrame({'const': 1, 'Network Rail: Manual handling': new_values})\n",
        "\n",
        "# Прогнозирование с использованием модели\n",
        "predicted_trauma = model.predict(new_data_df)\n",
        "print(predicted_trauma)"
      ],
      "metadata": {
        "colab": {
          "base_uri": "https://localhost:8080/"
        },
        "id": "DC86FSeeXK9e",
        "outputId": "ac65761c-f091-43ff-a3bb-d8c52d0af87e"
      },
      "execution_count": null,
      "outputs": [
        {
          "output_type": "stream",
          "name": "stdout",
          "text": [
            "0     73.181447\n",
            "1     80.044482\n",
            "2     86.907517\n",
            "3     93.770552\n",
            "4    100.633587\n",
            "5    107.496622\n",
            "6    114.359657\n",
            "7    121.222691\n",
            "8    128.085726\n",
            "9    134.948761\n",
            "dtype: float64\n"
          ]
        }
      ]
    },
    {
      "cell_type": "code",
      "source": [
        "plt.figure(figsize=(12, 7))\n",
        "# Отображение фактических данных\n",
        "plt.scatter(X['Network Rail: Manual handling'], Y, label='Фактические данные', alpha=0.5)\n",
        "# Отображение прогнозируемой линии\n",
        "plt.plot(new_data_df['Network Rail: Manual handling'], predicted_trauma, color='red', label='Прогноз модели')\n",
        "\n",
        "# Аннотация прогнозируемых значений\n",
        "for i, txt in enumerate(predicted_trauma):\n",
        "    plt.annotate(f\"{txt:.2f}\",\n",
        "                 (new_data_df['Network Rail: Manual handling'][i], predicted_trauma[i]),\n",
        "                 textcoords=\"offset points\",\n",
        "                 xytext=(0,10),\n",
        "                 ha='center')\n",
        "\n",
        "plt.xlabel('Network Rail: Manual handling')\n",
        "plt.ylabel('Total: Shock or trauma')\n",
        "plt.title('Прогноз общего количества шоков или травм')\n",
        "plt.legend()\n",
        "plt.grid(True)\n",
        "plt.show()"
      ],
      "metadata": {
        "colab": {
          "base_uri": "https://localhost:8080/",
          "height": 641
        },
        "id": "7s9s_t4GeeIr",
        "outputId": "63def26c-334a-410b-eac4-6d9569082e67"
      },
      "execution_count": null,
      "outputs": [
        {
          "output_type": "display_data",
          "data": {
            "text/plain": [
              "<Figure size 1200x700 with 1 Axes>"
            ],
            "image/png": "[encoded data removed]"
          },
          "metadata": {}
        }
      ]
    },
    {
      "cell_type": "markdown",
      "source": [
        "На графике показаны фактические данные по количеству инцидентов, связанных с ручным трудом в Network Rail (по оси X), и общее количество шоков или травм (по оси Y), а также прогноз модели (красная линия), основанный на линейной регрессии. Прогнозы модели представлены для различных гипотетических значений количества инцидентов, связанных с ручным трудом в Network Rail, в диапазоне от 0 до 45 с шагом 5.\n",
        "\n",
        "Эта визуализация помогает понять, как модель предсказывает изменение общего количества шоков или травм в зависимости от количества инцидентов, связанных с ручным трудом в Network Rail.\n",
        "\n",
        " Как видно из графика, с увеличением количества таких инцидентов предсказываемое количество шоков или травм также увеличивается, что демонстрирует линейную зависимость между этими переменными в рамках построенной модели. ​"
      ],
      "metadata": {
        "id": "sdMmGE_gkdH2"
      }
    }
  ]
}