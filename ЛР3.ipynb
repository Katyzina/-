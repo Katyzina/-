{
  "nbformat": 4,
  "nbformat_minor": 0,
  "metadata": {
    "colab": {
      "provenance": []
    },
    "kernelspec": {
      "name": "python3",
      "display_name": "Python 3"
    },
    "language_info": {
      "name": "python"
    }
  },
  "cells": [
    {
      "cell_type": "code",
      "execution_count": null,
      "metadata": {
        "id": "3EePKT7wGAEp"
      },
      "outputs": [],
      "source": [
        "import numpy as np\n",
        "import pandas as pd\n",
        "from sklearn.linear_model import LinearRegression\n",
        "import statsmodels.api as sm\n",
        "import matplotlib.pyplot as plt\n",
        "from statsmodels.formula.api import ols\n",
        "import seaborn as sns\n",
        "from sklearn.linear_model import LinearRegression\n",
        "from sklearn.model_selection import train_test_split\n",
        "from sklearn.metrics import r2_score"
      ]
    },
    {
      "cell_type": "markdown",
      "source": [
        "**Вариант 13:**\n",
        "Y=2.3*x+random(4)"
      ],
      "metadata": {
        "id": "URVRouzaH_GE"
      }
    },
    {
      "cell_type": "markdown",
      "source": [
        "Парная регрессия: построить две реализации парной линейной регрессионной модели на базе 2х библиотек Scikit-Learn, StatsModels, сравнить и интерпретировать полученные результаты, входные данные рассчитать согласно варианту в таблице."
      ],
      "metadata": {
        "id": "eEUh_o1OIMFQ"
      }
    },
    {
      "cell_type": "code",
      "source": [
        "np.random.seed(0)\n",
        "n_samples = 100 # кол-во выборок\n",
        "X = np.random.rand(n_samples)\n",
        "Y = 2.3 * X + np.random.randn(n_samples) * 4\n",
        "\n",
        "# Модель с использованием StatsModels\n",
        "X_sm = sm.add_constant(X)\n",
        "model_sm = sm.OLS(Y, X_sm).fit()  # метод наименьших квадратов (Ordinary Least Squares)\n",
        "\n",
        "print(\"StatsModels:\")\n",
        "print(model_sm.summary())"
      ],
      "metadata": {
        "id": "zU2NTSsYHrrc"
      },
      "execution_count": null,
      "outputs": []
    },
    {
      "cell_type": "code",
      "source": [
        "# График для модели StatsModels\n",
        "plt.scatter(X, Y, label='Данные')\n",
        "plt.plot(X, model_sm.predict(X_sm), color='red', label='Модель (StatsModels)')\n",
        "plt.xlabel('X')\n",
        "plt.ylabel('Y')\n",
        "plt.title('Линейная регрессия: StatsModels')\n",
        "plt.legend()\n",
        "plt.show()"
      ],
      "metadata": {
        "id": "CWgx7TJMKjnN"
      },
      "execution_count": null,
      "outputs": []
    },
    {
      "cell_type": "code",
      "source": [
        "# Модель с использованием Scikit-Learn\n",
        "model_sklearn = LinearRegression().fit(X.reshape(-1, 1), Y.reshape(-1, 1))\n",
        "\n",
        "print(\"\\nScikit-Learn:\")\n",
        "print(\"Coef:\", model_sklearn.coef_)\n",
        "print(\"Intercept:\", model_sklearn.intercept_)\n"
      ],
      "metadata": {
        "id": "Gs3mEbn7IYNJ"
      },
      "execution_count": null,
      "outputs": []
    },
    {
      "cell_type": "code",
      "source": [
        "# График для модели Scikit-Learn\n",
        "plt.scatter(X, Y, label='Данные')\n",
        "plt.plot(X, model_sklearn.predict(X.reshape(-1, 1)), color='green', label='Модель (Scikit-Learn)')\n",
        "plt.xlabel('X')\n",
        "plt.ylabel('Y')\n",
        "plt.title('Линейная регрессия: Scikit-Learn')\n",
        "plt.legend()\n",
        "plt.show()"
      ],
      "metadata": {
        "id": "GO8ulRb6KqvO"
      },
      "execution_count": null,
      "outputs": []
    },
    {
      "cell_type": "markdown",
      "source": [
        "**Вывод:** То есть, результаты моделирования, полученные из обеих библиотек, довольно сходны. Они показывают небольшую взаимосвязь между фактором x1 и зависимой переменной y, но модель не очень хорошо объясняет вариацию в y, что подтверждается низким значением R-квадрата (0,021/2,1%).\n",
        "\n",
        "Основное различие между этими двумя заключается в том, как они обрабатывают константы. Scikit-learn позволяет пользователю добавлять или не добавлять константу через параметр, в то время как класс OLS Statsmodels имеет функцию, которая добавляет константу в заданный массив. Scikit-learn в основном предназначен для машинного обучения, а Statsmodels — для строгой статистики."
      ],
      "metadata": {
        "id": "1YwLHv1JRvKP"
      }
    },
    {
      "cell_type": "markdown",
      "source": [
        "Основные отличия между Scikit-Learn и StatsModels, которые могут повлиять на результаты визуализации, следующие:\n",
        "\n",
        "1. **Формат данных**:\n",
        "   - Scikit-Learn ожидает, что входные данные для предикторов (`X`) будут в формате двумерного массива (матрицы), где каждый столбец — это одна переменная. Это требование сохраняется даже если предиктор всего один, поэтому `X` необходимо преобразовать с помощью `.reshape(-1, 1)`.\n",
        "   - StatsModels более гибок в отношении форматов данных и может работать с DataFrame без необходимости дополнительного преобразования формы массива.\n",
        "\n",
        "2. **Добавление константы (свободного члена)**:\n",
        "   - В Scikit-Learn свободный член (intercept) включается автоматически, и пользователю не нужно явно добавлять столбец единиц к данным.\n",
        "   - В StatsModels для включения свободного члена пользователь должен явно добавить константу к данным с помощью `sm.add_constant(X)`, иначе модель будет построена без свободного члена.\n",
        "\n",
        "3. **Подход к моделированию**:\n",
        "   - Scikit-Learn сфокусирован на машинном обучении и предсказательных моделях, предоставляя инструменты для обучения, прогнозирования и оценки моделей с минимумом предоставления статистических данных о модели.\n",
        "   - StatsModels сфокусирован на статистическом анализе и предоставляет обширный набор инструментов для оценки моделей, включая подробные статистические выходные данные о параметрах модели, тестах и диагностики.\n"
      ],
      "metadata": {
        "id": "xl4G9SpCduKn"
      }
    }
  ]
}